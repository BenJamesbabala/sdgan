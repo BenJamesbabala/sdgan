{
 "cells": [
  {
   "cell_type": "code",
   "execution_count": 1,
   "metadata": {
    "collapsed": false
   },
   "outputs": [
    {
     "name": "stdout",
     "output_type": "stream",
     "text": [
      "INFO:tensorflow:Restoring parameters from ./train/model.ckpt-6532\n"
     ]
    }
   ],
   "source": [
    "# Load graph and restore weights\n",
    "\n",
    "metagraph_fp = './train/infer/infer.meta'\n",
    "ckpt_fp = './train/model.ckpt-6532'\n",
    "\n",
    "import tensorflow as tf\n",
    "\n",
    "tf.reset_default_graph()\n",
    "graph = tf.get_default_graph()\n",
    "\n",
    "saver = tf.train.import_meta_graph(metagraph_fp)\n",
    "\n",
    "sess = tf.InteractiveSession()\n",
    "\n",
    "saver.restore(sess, ckpt_fp)"
   ]
  },
  {
   "cell_type": "code",
   "execution_count": 2,
   "metadata": {
    "collapsed": false
   },
   "outputs": [
    {
     "name": "stdout",
     "output_type": "stream",
     "text": [
      "(4, 50)\n",
      "(8, 50)\n"
     ]
    }
   ],
   "source": [
    "# Generate disentangled latent codes\n",
    "\n",
    "nids = 4\n",
    "nobs = 8\n",
    "\n",
    "samp_feeds = {}\n",
    "samp_feeds[graph.get_tensor_by_name('samp_zi_n:0')] = nids\n",
    "samp_feeds[graph.get_tensor_by_name('samp_zo_n:0')] = nobs\n",
    "samp_fetches = {}\n",
    "samp_fetches['zis'] = graph.get_tensor_by_name('samp_zi:0')\n",
    "samp_fetches['zos'] = graph.get_tensor_by_name('samp_zo:0')\n",
    "\n",
    "_samp_fetches = sess.run(samp_fetches, samp_feeds)\n",
    "\n",
    "print _samp_fetches['zis'].shape\n",
    "print _samp_fetches['zos'].shape"
   ]
  },
  {
   "cell_type": "code",
   "execution_count": 3,
   "metadata": {
    "collapsed": false
   },
   "outputs": [
    {
     "name": "stdout",
     "output_type": "stream",
     "text": [
      "(4, 8, 64, 64, 3)\n",
      "(256, 512, 3)\n"
     ]
    }
   ],
   "source": [
    "# Generate grid of images from latent codes\n",
    "\n",
    "feeds = {}\n",
    "feeds[graph.get_tensor_by_name('zi:0')] = _samp_fetches['zis']\n",
    "feeds[graph.get_tensor_by_name('zo:0')] = _samp_fetches['zos']\n",
    "fetches = {}\n",
    "fetches['G_z_grid'] = graph.get_tensor_by_name('G_z_grid:0')\n",
    "fetches['G_z_grid_prev'] = graph.get_tensor_by_name('G_z_grid_prev:0')\n",
    "\n",
    "_fetches = sess.run(fetches, feeds)\n",
    "\n",
    "print _fetches['G_z_grid'].shape\n",
    "print _fetches['G_z_grid_prev'].shape"
   ]
  },
  {
   "cell_type": "code",
   "execution_count": null,
   "metadata": {
    "collapsed": false
   },
   "outputs": [],
   "source": [
    "# Preview image\n",
    "\n",
    "from cStringIO import StringIO\n",
    "from IPython import display\n",
    "import numpy as np\n",
    "import PIL.Image\n",
    "\n",
    "def display_img(a):\n",
    "    f = StringIO()\n",
    "    PIL.Image.fromarray(a).save(f, 'png')\n",
    "    display.display(display.Image(data=f.getvalue()))\n",
    "\n",
    "display_img(_fetches['G_z_grid_prev'])"
   ]
  }
 ],
 "metadata": {
  "kernelspec": {
   "display_name": "Python 2",
   "language": "python",
   "name": "python2"
  },
  "language_info": {
   "codemirror_mode": {
    "name": "ipython",
    "version": 2
   },
   "file_extension": ".py",
   "mimetype": "text/x-python",
   "name": "python",
   "nbconvert_exporter": "python",
   "pygments_lexer": "ipython2",
   "version": "2.7.12"
  }
 },
 "nbformat": 4,
 "nbformat_minor": 1
}
